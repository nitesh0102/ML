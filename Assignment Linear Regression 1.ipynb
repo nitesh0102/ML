{
 "cells": [
  {
   "cell_type": "code",
   "execution_count": 1,
   "id": "a30687a3-9156-44ae-8e25-0b95e3d90ccc",
   "metadata": {},
   "outputs": [],
   "source": [
    "#Q1"
   ]
  },
  {
   "cell_type": "code",
   "execution_count": null,
   "id": "a97e2895-0f6b-4ddd-ab1d-dd0d129d5ff3",
   "metadata": {},
   "outputs": [],
   "source": [
    "Simple Linear Regression have one input variable and one output variable\n",
    "whereas in multiple linear regression we have more than one input variable. "
   ]
  },
  {
   "cell_type": "code",
   "execution_count": 2,
   "id": "980e5a5c-0ff7-4e25-8845-d4fb47c9bd43",
   "metadata": {},
   "outputs": [],
   "source": [
    "#Q2"
   ]
  },
  {
   "cell_type": "code",
   "execution_count": null,
   "id": "59391342-976b-4199-9083-909884811366",
   "metadata": {},
   "outputs": [],
   "source": [
    "Assumptions of Linear regression: \n",
    "1. Linearity : Linear Relation between input and output \n",
    "2. Independence : Predictors are independent and does not affect each other\n",
    "3. Homoscedasticity : The error in the prediction is homoscedastic. \n",
    "4. Normality : The error variables are normally distributed. \n",
    "5. No Multicolinearity : No co-relation between independent "
   ]
  },
  {
   "cell_type": "code",
   "execution_count": null,
   "id": "bba02c2c-701d-449c-98ab-9ce7b7c70b94",
   "metadata": {},
   "outputs": [],
   "source": []
  },
  {
   "cell_type": "code",
   "execution_count": 3,
   "id": "b07ea558-18d0-40c9-9977-9785f0c9e5ab",
   "metadata": {},
   "outputs": [],
   "source": [
    "#Q3"
   ]
  },
  {
   "cell_type": "code",
   "execution_count": 4,
   "id": "9f6eeec0-85bf-4262-987c-7bbafb575250",
   "metadata": {},
   "outputs": [
    {
     "ename": "SyntaxError",
     "evalue": "invalid syntax (3720637200.py, line 1)",
     "output_type": "error",
     "traceback": [
      "\u001b[1;36m  Cell \u001b[1;32mIn[4], line 1\u001b[1;36m\u001b[0m\n\u001b[1;33m    Slope : Increase in Y variable for every one unit of increase in X Variable\u001b[0m\n\u001b[1;37m                          ^\u001b[0m\n\u001b[1;31mSyntaxError\u001b[0m\u001b[1;31m:\u001b[0m invalid syntax\n"
     ]
    }
   ],
   "source": [
    "Slope : Increase in Y variable for every one unit of increase in X Variable\n",
    "Intercept : Predicted value of Y variable when X variable is zero. "
   ]
  },
  {
   "cell_type": "code",
   "execution_count": null,
   "id": "2452bee7-c985-49bc-be95-062e5f13ee32",
   "metadata": {},
   "outputs": [],
   "source": []
  },
  {
   "cell_type": "code",
   "execution_count": 5,
   "id": "b38af359-485d-4c3a-87e2-364ee1d408fb",
   "metadata": {},
   "outputs": [],
   "source": [
    "#Q4"
   ]
  },
  {
   "cell_type": "code",
   "execution_count": null,
   "id": "0bc613e8-af28-492b-bad7-ce13e54f7fc0",
   "metadata": {},
   "outputs": [],
   "source": [
    "What is gradient : \n",
    "\n",
    "A gradient is nothing but derivative that defines the effects on outputs of the function with a little bit of variation in inputs. \n",
    "\n",
    "What is Gradient Descent : A GD is an algorithm that finds the lowest values of a function by iteratively moving in the direction of the gradient. "
   ]
  },
  {
   "cell_type": "code",
   "execution_count": null,
   "id": "3dad2bc5-263d-44f8-a85d-c445a4d064f7",
   "metadata": {},
   "outputs": [],
   "source": [
    "Here's how gradient descent works: \n",
    "Start at a random input \n",
    "Take a small step in the direction of the gradient \n",
    "Follow the negative of the gradient to minimize the function"
   ]
  },
  {
   "cell_type": "code",
   "execution_count": null,
   "id": "9f8f01c9-ae24-4830-8c93-dda0b893a180",
   "metadata": {},
   "outputs": [],
   "source": [
    "Gradient descent is like trying to find your way down a dark mountain. \n",
    "You can't see where you're going so you have to feel your way around by taking small steps in the direction that feels the most downhill. \n",
    "Eventually, if you keep going, you'll find your way to the bottom."
   ]
  },
  {
   "cell_type": "code",
   "execution_count": null,
   "id": "d541427e-b995-4bbb-b104-55f2fecc0ed8",
   "metadata": {},
   "outputs": [],
   "source": [
    "Gradient descent at it's core is a numerical optimization algorithm that aims to find the optimal parameters - weights and biases \n",
    "of a neural network by minimizing a defined cost function. "
   ]
  },
  {
   "cell_type": "code",
   "execution_count": null,
   "id": "c6591045-7f9c-4036-8636-0e2527ecd55c",
   "metadata": {},
   "outputs": [],
   "source": []
  },
  {
   "cell_type": "code",
   "execution_count": null,
   "id": "f7be88d7-e12d-4f6d-b8e3-cc3dc7db746a",
   "metadata": {},
   "outputs": [],
   "source": [
    "Gradient Descent (GD) is a widely used optimization algorithm in machine learning and deep learning that minimises \n",
    "the cost function of a neural network model during training. It works by iteratively adjusting the weights or parameters of the model \n",
    "in the direction of the negative gradient of the cost function until the minimum of the cost function is reached"
   ]
  },
  {
   "cell_type": "code",
   "execution_count": null,
   "id": "b1559cca-7992-4d9e-bffa-b2ae9f9d5f5e",
   "metadata": {},
   "outputs": [],
   "source": []
  },
  {
   "cell_type": "code",
   "execution_count": null,
   "id": "e6ee8260-32d4-4857-9efe-b74d7dc48959",
   "metadata": {},
   "outputs": [],
   "source": []
  },
  {
   "cell_type": "code",
   "execution_count": 1,
   "id": "30e8d782-cbb8-4dbb-9e55-5e9b2759f0a2",
   "metadata": {},
   "outputs": [],
   "source": [
    "#Q5 "
   ]
  },
  {
   "cell_type": "code",
   "execution_count": null,
   "id": "d129d5fd-41ee-4bd1-9cb6-7d6e31acce3e",
   "metadata": {},
   "outputs": [],
   "source": [
    "Multiple Linear Regression Model : Two or more independent Variables "
   ]
  },
  {
   "cell_type": "code",
   "execution_count": null,
   "id": "5f5ed718-9ba0-40b6-83f6-e670d56c3e63",
   "metadata": {},
   "outputs": [],
   "source": []
  },
  {
   "cell_type": "code",
   "execution_count": 2,
   "id": "d99d80a8-0e90-469a-939b-c94d4f6630fb",
   "metadata": {},
   "outputs": [],
   "source": [
    "#Q6"
   ]
  },
  {
   "cell_type": "code",
   "execution_count": null,
   "id": "d0fe3126-9ecc-4213-b451-580d6a4cebaa",
   "metadata": {},
   "outputs": [],
   "source": [
    "Multicolineraity in MLR : Multicolinearity is a situtation in LR where two or more independent features are \n",
    "corelated with each other. \n",
    "\n",
    "It is a problem because it will make the statistical inference less reliable. "
   ]
  },
  {
   "cell_type": "code",
   "execution_count": null,
   "id": "421c886f-5929-4974-adb2-1a910ea9cb41",
   "metadata": {},
   "outputs": [],
   "source": []
  },
  {
   "cell_type": "code",
   "execution_count": null,
   "id": "4b620bbe-b16c-49fe-bacc-7689f833f8c6",
   "metadata": {},
   "outputs": [],
   "source": [
    "#Q7 "
   ]
  },
  {
   "cell_type": "code",
   "execution_count": null,
   "id": "64f2b655-cf34-4ad2-bba7-810d9da7c526",
   "metadata": {},
   "outputs": [],
   "source": [
    "Polymonial Regression : If your data point does not clearly fit a linear regression, it might be ideal for polynomial regression. \n",
    "\n",
    "Polynomial regression, like linear regression, \n",
    "uses the relationship between the variables x and y to find the best way to draw a line through the data points.\n"
   ]
  },
  {
   "cell_type": "code",
   "execution_count": null,
   "id": "5d1ff6d8-ab0b-4f33-81af-6e3cf722cfc6",
   "metadata": {},
   "outputs": [],
   "source": [
    "Ex: \n"
   ]
  },
  {
   "cell_type": "code",
   "execution_count": 3,
   "id": "8a319566-1adf-4cee-aefb-1537bf2058bb",
   "metadata": {},
   "outputs": [
    {
     "data": {
      "image/png": "[encoded data removed]",
      "text/plain": [
       "<Figure size 640x480 with 1 Axes>"
      ]
     },
     "metadata": {},
     "output_type": "display_data"
    }
   ],
   "source": [
    "import matplotlib.pyplot as plt\n",
    "\n",
    "x = [1,2,3,5,6,7,8,9,10,12,13,14,15,16,18,19,21,22]\n",
    "y = [100,90,80,60,60,55,60,65,70,70,75,76,78,79,90,99,99,100]\n",
    "\n",
    "plt.scatter(x, y)\n",
    "plt.show()"
   ]
  },
  {
   "cell_type": "code",
   "execution_count": 17,
   "id": "8fd43174-0b82-469c-84ae-fc5e382b43c6",
   "metadata": {},
   "outputs": [
    {
     "data": {
      "image/png": "[encoded data removed]",
      "text/plain": [
       "<Figure size 640x480 with 1 Axes>"
      ]
     },
     "metadata": {},
     "output_type": "display_data"
    }
   ],
   "source": [
    "import numpy\n",
    "import matplotlib.pyplot as plt\n",
    "\n",
    "x = [1,2,3,5,6,7,8,9,10,12,13,14,15,16,18,19,21,22]\n",
    "y = [100,90,80,60,60,55,60,65,70,70,75,76,78,79,90,99,99,100]\n",
    "\n",
    "mymodel = numpy.poly1d(numpy.polyfit(x, y, 3))\n",
    "\n",
    "myline = numpy.linspace(1, 22, 1000)\n",
    "\n",
    "plt.scatter(x, y)\n",
    "plt.plot(myline, mymodel(myline))\n",
    "plt.show()"
   ]
  },
  {
   "cell_type": "code",
   "execution_count": 18,
   "id": "b51630bd-9f6a-40a4-b99b-005d2299eb4c",
   "metadata": {},
   "outputs": [],
   "source": [
    "mymodel = numpy.poly1d(numpy.polyfit(x, y, 3))"
   ]
  },
  {
   "cell_type": "code",
   "execution_count": 19,
   "id": "4997c75b-38f2-4127-80ba-09eebbe8db22",
   "metadata": {},
   "outputs": [],
   "source": [
    "myline = numpy.linspace(1, 22, 100)"
   ]
  },
  {
   "cell_type": "code",
   "execution_count": 20,
   "id": "0dce9645-3fff-45e8-86ff-13c3d50baacd",
   "metadata": {},
   "outputs": [
    {
     "data": {
      "text/plain": [
       "<matplotlib.collections.PathCollection at 0x27a679d6010>"
      ]
     },
     "execution_count": 20,
     "metadata": {},
     "output_type": "execute_result"
    },
    {
     "data": {
      "image/png": "[encoded data removed]",
      "text/plain": [
       "<Figure size 640x480 with 1 Axes>"
      ]
     },
     "metadata": {},
     "output_type": "display_data"
    }
   ],
   "source": [
    "plt.scatter(x, y)"
   ]
  },
  {
   "cell_type": "code",
   "execution_count": 21,
   "id": "46e2d472-1ca5-4f42-845a-23806a254f26",
   "metadata": {},
   "outputs": [
    {
     "data": {
      "text/plain": [
       "[<matplotlib.lines.Line2D at 0x27a67aebd90>]"
      ]
     },
     "execution_count": 21,
     "metadata": {},
     "output_type": "execute_result"
    },
    {
     "data": {
      "image/png": "[encoded data removed]",
      "text/plain": [
       "<Figure size 640x480 with 1 Axes>"
      ]
     },
     "metadata": {},
     "output_type": "display_data"
    }
   ],
   "source": [
    "plt.plot(myline, mymodel(myline))"
   ]
  },
  {
   "cell_type": "code",
   "execution_count": 23,
   "id": "cdf48ea6-4d90-485e-976d-de85ed3fe409",
   "metadata": {},
   "outputs": [],
   "source": [
    "plt.show()"
   ]
  },
  {
   "cell_type": "code",
   "execution_count": 24,
   "id": "41d123de-3671-4ed4-a6ed-eb91c8118ad9",
   "metadata": {},
   "outputs": [
    {
     "name": "stdout",
     "output_type": "stream",
     "text": [
      "0.9432150416451027\n"
     ]
    }
   ],
   "source": [
    "import numpy\n",
    "from sklearn.metrics import r2_score\n",
    "\n",
    "x = [1,2,3,5,6,7,8,9,10,12,13,14,15,16,18,19,21,22]\n",
    "y = [100,90,80,60,60,55,60,65,70,70,75,76,78,79,90,99,99,100]\n",
    "\n",
    "mymodel = numpy.poly1d(numpy.polyfit(x, y, 3))\n",
    "\n",
    "print(r2_score(y, mymodel(x)))\n"
   ]
  },
  {
   "cell_type": "code",
   "execution_count": 25,
   "id": "0e7aa338-0545-4a84-81ad-141f3c6287a6",
   "metadata": {},
   "outputs": [],
   "source": [
    "mymodel = numpy.poly1d(numpy.polyfit(x, y, 3))"
   ]
  },
  {
   "cell_type": "code",
   "execution_count": 26,
   "id": "1eb961e2-a696-4726-8ccf-e93fc514c483",
   "metadata": {},
   "outputs": [
    {
     "name": "stdout",
     "output_type": "stream",
     "text": [
      "88.87331269697987\n"
     ]
    }
   ],
   "source": [
    "import numpy\n",
    "from sklearn.metrics import r2_score\n",
    "\n",
    "x = [1,2,3,5,6,7,8,9,10,12,13,14,15,16,18,19,21,22]\n",
    "y = [100,90,80,60,60,55,60,65,70,70,75,76,78,79,90,99,99,100]\n",
    "\n",
    "mymodel = numpy.poly1d(numpy.polyfit(x, y, 3))\n",
    "\n",
    "speed = mymodel(17)\n",
    "print(speed)"
   ]
  },
  {
   "cell_type": "code",
   "execution_count": null,
   "id": "1fddad99-61b2-4b06-9b38-0274e0b0838e",
   "metadata": {},
   "outputs": [],
   "source": []
  },
  {
   "cell_type": "code",
   "execution_count": null,
   "id": "e00935eb-da5c-49cd-bc75-1b51ac188f53",
   "metadata": {},
   "outputs": [],
   "source": []
  },
  {
   "cell_type": "code",
   "execution_count": null,
   "id": "75fb56cb-d4f7-4164-8f19-16bf654d6e43",
   "metadata": {},
   "outputs": [],
   "source": [
    "Ex: Checking Bad fit Cases"
   ]
  },
  {
   "cell_type": "code",
   "execution_count": 32,
   "id": "de662d11-a0b8-4609-919b-54720e1f2d41",
   "metadata": {},
   "outputs": [
    {
     "data": {
      "image/png": "[encoded data removed]",
      "text/plain": [
       "<Figure size 640x480 with 1 Axes>"
      ]
     },
     "metadata": {},
     "output_type": "display_data"
    }
   ],
   "source": [
    "import numpy\n",
    "import matplotlib.pyplot as plt\n",
    "\n",
    "x = [89,43,36,36,95,10,66,34,38,20,26,29,48,64,6,5,36,66,72,40]\n",
    "y = [21,46,3,35,67,95,53,72,58,10,26,34,90,33,38,20,56,2,47,15]\n",
    "\n",
    "mymodel = numpy.poly1d(numpy.polyfit(x, y, 4))\n",
    "\n",
    "myline = numpy.linspace(2, 95, 100)\n",
    "\n",
    "plt.scatter(x, y)\n",
    "plt.plot(myline, mymodel(myline))\n",
    "plt.show()"
   ]
  },
  {
   "cell_type": "code",
   "execution_count": 28,
   "id": "daca630a-c891-4ca6-a7e1-1a9f086e38ad",
   "metadata": {},
   "outputs": [
    {
     "name": "stdout",
     "output_type": "stream",
     "text": [
      "0.009952707566680652\n"
     ]
    }
   ],
   "source": [
    "import numpy\n",
    "from sklearn.metrics import r2_score\n",
    "\n",
    "x = [89,43,36,36,95,10,66,34,38,20,26,29,48,64,6,5,36,66,72,40]\n",
    "y = [21,46,3,35,67,95,53,72,58,10,26,34,90,33,38,20,56,2,47,15]\n",
    "\n",
    "mymodel = numpy.poly1d(numpy.polyfit(x, y, 3))\n",
    "\n",
    "print(r2_score(y, mymodel(x)))"
   ]
  },
  {
   "cell_type": "code",
   "execution_count": null,
   "id": "46295b88-886c-480c-8c26-f6028aeffe0f",
   "metadata": {},
   "outputs": [],
   "source": []
  },
  {
   "cell_type": "code",
   "execution_count": null,
   "id": "2cb8a32f-8398-4ee4-9f01-995bbb0c5b71",
   "metadata": {},
   "outputs": [],
   "source": []
  },
  {
   "cell_type": "code",
   "execution_count": 33,
   "id": "07e07dad-784a-4350-8efd-e3296de88e81",
   "metadata": {},
   "outputs": [],
   "source": [
    "#Q8"
   ]
  },
  {
   "cell_type": "code",
   "execution_count": null,
   "id": "fdb56d42-ae5f-4348-acfc-ea1c659ea74b",
   "metadata": {},
   "outputs": [],
   "source": [
    "Advantages : Works well on any set/size of the data.\n",
    "Works very well on non linear problems \n",
    "\n",
    "Dis: We need to choose the right polynomial degree for good bias variance. "
   ]
  }
 ],
 "metadata": {
  "kernelspec": {
   "display_name": "Python 3 (ipykernel)",
   "language": "python",
   "name": "python3"
  },
  "language_info": {
   "codemirror_mode": {
    "name": "ipython",
    "version": 3
   },
   "file_extension": ".py",
   "mimetype": "text/x-python",
   "name": "python",
   "nbconvert_exporter": "python",
   "pygments_lexer": "ipython3",
   "version": "3.11.7"
  }
 },
 "nbformat": 4,
 "nbformat_minor": 5
}
